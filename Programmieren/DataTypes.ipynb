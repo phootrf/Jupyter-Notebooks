{
 "metadata": {
  "language_info": {
   "codemirror_mode": {
    "name": "ipython",
    "version": 3
   },
   "file_extension": ".py",
   "mimetype": "text/x-python",
   "name": "python",
   "nbconvert_exporter": "python",
   "pygments_lexer": "ipython3",
   "version": "3.8.3"
  },
  "orig_nbformat": 4,
  "kernelspec": {
   "name": "java",
   "display_name": "Java",
   "language": "java"
  },
  "interpreter": {
   "hash": "759a5c8305fe19faa84f4fbb02bfb49954f2d712569633228b35fe9367bfbf92"
  }
 },
 "nbformat": 4,
 "nbformat_minor": 2,
 "cells": [
  {
   "source": [
    "# Datentypen\r\n",
    "***"
   ],
   "cell_type": "markdown",
   "metadata": {}
  },
  {
   "source": [
    "Wir wissen, dass ein Programm eine gewisse Struktur haben muss, damit der Rechner das Programm überhaupt versteht. Diese Struktur ist klar definiert. Eines der wichtigsten Strukturierungen ist das Aufteilen des Codes in:<br>\n",
    "__1.) Daten__ und<br>\n",
    "__2.) Anweisungen__<br>\n",
    "\n",
    "Dieses Notebook soll Ihnen einen ersten Einblick in die Syntax und Deklaration (= Darstellung und Definieren) von Daten in einer Prgrammiersprache, hier Java, geben, und Ihnen auch grundlegende Manipulationen dieser Daten zeigen, am Beispiel von ganzzahligen Werten.\n",
    "\n",
    "Als erstes wollen wir, dass der Rechner uns die Zahl 42 bereitstellt, weil wir mit ihr Dinge tun wollen."
   ],
   "cell_type": "markdown",
   "metadata": {}
  },
  {
   "cell_type": "code",
   "execution_count": null,
   "metadata": {},
   "outputs": [],
   "source": [
    "int var = 42;"
   ]
  },
  {
   "source": [
    "Was hier geschrieben ist:\n",
    "- `int` -- Java-Schlüsselwort. Wir wollen vom Rechner eine Variable, also ein virtuelles Gefäss, um einen Wert reinzupacken, und da der Rechner nicht wissen kann, was für eine Sorte Variable wir wünschen, mussen wir es mit diesem Schlüsselwort deklarieren. `int` bedeutet, dass wir eine ganzahlige Variable (inklusive 0) haben wollen.\n",
    "- `var` -- Der Name der Variable. Kann beliebig gewählt werden.\n",
    "- `=`   -- das Gleichheitszeichen ist die __Zuweisung__. Auf Deutsch \"übersetzt\" bedeutet dies: \"Nimm das, was rechts steht und schiebe es in das, was links steht\". Es ist __kein mathematisches Gleichheitszeichen__!\n",
    "- `42`  -- der von uns gewünschte Zahlenwert, der in der Variablen gespeichert werden soll.\n",
    "-`;` -- Das Semikolon am Schluss muss stehen, da der Rechner dann weiss, dass diese spezifische Anweisung hier endet und die nächste kommt.\n",
    "\n",
    "Dieser erste code kann also folgendermassen gelesen werden: _\"Stelle mir eine Variable des Typs Integers bereit, und fülle sie mit dem Wert 42.\"_"
   ],
   "cell_type": "markdown",
   "metadata": {}
  },
  {
   "source": [
    "Mit `System.out.println(var);` können wir überprüfen, was in `var` gespeichert ist. Diese Anweisung kann generell für beliebige Variablen ausgeführt werden."
   ],
   "cell_type": "markdown",
   "metadata": {}
  },
  {
   "cell_type": "code",
   "execution_count": null,
   "metadata": {},
   "outputs": [],
   "source": [
    "System.out.println(var);"
   ]
  },
  {
   "source": [
    "`var` kann nun manipuliert werden:<br>\n",
    "Beachten Sie, dass wir das Ergebnis immer in dieselbe Variable var speichern. Der __ursprüngliche Wert geht dabei verloren.__"
   ],
   "cell_type": "markdown",
   "metadata": {}
  },
  {
   "cell_type": "code",
   "execution_count": null,
   "metadata": {},
   "outputs": [],
   "source": [
    "var = var / 5;\n",
    "System.out.println(var);"
   ]
  },
  {
   "source": [
    "Wenn Sie nun den ursprünglichen Wert von 42 nicht verlieren wollen, deklarieren (erstellen) Sie weitere Variablen. Gurndsätzlich können Sie so viele Variablen deklarieren, wie Ihr Rechner Speicher hat. (Das ist heutzutage sehr viel)<br>\n",
    "Beispielsweise:"
   ],
   "cell_type": "markdown",
   "metadata": {}
  },
  {
   "cell_type": "code",
   "execution_count": null,
   "metadata": {},
   "outputs": [],
   "source": [
    "var = 42;\n",
    "int anotherVar;"
   ]
  },
  {
   "source": [
    "Wir können auch einfach mal eine Variable, hier `anotherVar`, deklarieren, aber noch nicht mit einem spezifischen Wert befüllen..."
   ],
   "cell_type": "markdown",
   "metadata": {}
  },
  {
   "cell_type": "code",
   "execution_count": null,
   "metadata": {},
   "outputs": [],
   "source": [
    "anotherVar = var + 8;\n",
    "System.out.println(anotherVar);\n",
    "System.out.println(var);"
   ]
  },
  {
   "source": [
    "..und dies später nachholen. Mit Hilfe von 2 Variablen konnten wir den ursprünglichen Wert \"retten\"."
   ],
   "cell_type": "markdown",
   "metadata": {}
  },
  {
   "source": [
    "AUFGABE: Deklarieren Sie 4 Variablen. Die erste soll den Wert 100 haben, die letzte 12.5. Sie dürfen nur der ersten Variable einen Zahlenwert zuweisen und die 3 folgenden Variablen müssen jeweils halb so gross wie die vorige sein. Überprüfen Sie selber mittels \"System.out.println();\", ob Ihr Code funktioniert."
   ],
   "cell_type": "markdown",
   "metadata": {}
  },
  {
   "cell_type": "code",
   "execution_count": null,
   "metadata": {},
   "outputs": [],
   "source": []
  }
 ]
}